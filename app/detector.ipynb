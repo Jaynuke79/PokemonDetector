{
 "cells": [
  {
   "cell_type": "markdown",
   "id": "084bde61",
   "metadata": {},
   "source": [
    "# Pokémon Detector Demo\n",
    "\n",
    "This notebook demonstrates how to load a trained ConvNeXt model and use it to predict the class of a Pokémon from an input image. The workflow includes loading class names, preparing the model, preprocessing the image, and making a prediction."
   ]
  },
  {
   "cell_type": "markdown",
   "id": "787204f5",
   "metadata": {},
   "source": [
    "## Load Class Names\n",
    "\n",
    "Load the list of Pokémon class names from a JSON file. This is used to map model predictions to class labels."
   ]
  },
  {
   "cell_type": "code",
   "execution_count": 34,
   "id": "b99ea2c1",
   "metadata": {},
   "outputs": [],
   "source": [
    "import numpy as np\n",
    "import torch\n",
    "import json\n",
    "import timm\n",
    "from torchvision import transforms\n",
    "from PIL import Image\n",
    "import click"
   ]
  },
  {
   "cell_type": "markdown",
   "id": "cb71afb0",
   "metadata": {},
   "source": [
    "## Imports\n",
    "\n",
    "We import the necessary libraries for model loading, image processing, and prediction."
   ]
  },
  {
   "cell_type": "code",
   "execution_count": 5,
   "id": "649e29a0",
   "metadata": {},
   "outputs": [
    {
     "name": "stdout",
     "output_type": "stream",
     "text": [
      "Class names loaded: ['Abra', 'Aerodactyl', 'Alakazam', 'Arbok', 'Arcanine', 'Articuno', 'Beedrill', 'Bellsprout', 'Blastoise', 'Bulbasaur', 'Butterfree', 'Caterpie', 'Chansey', 'Charizard', 'Charmander', 'Charmeleon', 'Clefable', 'Clefairy', 'Cloyster', 'Cubone', 'Dewgong', 'Diglett', 'Ditto', 'Dodrio', 'Doduo', 'Dragonair', 'Dragonite', 'Dratini', 'Drowzee', 'Dugtrio', 'Eevee', 'Ekans', 'Electabuzz', 'Electrode', 'Exeggcute', 'Exeggutor', 'Farfetchd', 'Fearow', 'Flareon', 'Gastly', 'Gengar', 'Geodude', 'Gloom', 'Golbat', 'Goldeen', 'Golduck', 'Golem', 'Graveler', 'Grimer', 'Growlithe', 'Gyarados', 'Haunter', 'Hitmonchan', 'Hitmonlee', 'Horsea', 'Hypno', 'Ivysaur', 'Jigglypuff', 'Jolteon', 'Jynx', 'Kabuto', 'Kabutops', 'Kadabra', 'Kakuna', 'Kangaskhan', 'Kingler', 'Koffing', 'Krabby', 'Lapras', 'Lickitung', 'Machamp', 'Machoke', 'Machop', 'Magikarp', 'Magmar', 'Magnemite', 'Magneton', 'Mankey', 'Marowak', 'Meowth', 'Metapod', 'Mew', 'Mewtwo', 'Moltres', 'MrMime', 'Muk', 'Nidoking', 'Nidoqueen', 'Nidorina', 'Nidorino', 'Ninetales', 'Oddish', 'Omanyte', 'Omastar', 'Onix', 'Paras', 'Parasect', 'Persian', 'Pidgeot', 'Pidgeotto', 'Pidgey', 'Pikachu', 'Pinsir', 'Poliwag', 'Poliwhirl', 'Poliwrath', 'Ponyta', 'Porygon', 'Primeape', 'Psyduck', 'Raichu', 'Rapidash', 'Raticate', 'Rattata', 'Rhydon', 'Rhyhorn', 'Sandshrew', 'Sandslash', 'Scyther', 'Seadra', 'Seaking', 'Seel', 'Shellder', 'Slowbro', 'Slowpoke', 'Snorlax', 'Spearow', 'Squirtle', 'Starmie', 'Staryu', 'Tangela', 'Tauros', 'Tentacool', 'Tentacruel', 'Vaporeon', 'Venomoth', 'Venonat', 'Venusaur', 'Victreebel', 'Vileplume', 'Voltorb', 'Vulpix', 'Wartortle', 'Weedle', 'Weepinbell', 'Weezing', 'Wigglytuff', 'Zapdos', 'Zubat']\n",
      "Number of classes: 149\n"
     ]
    }
   ],
   "source": [
    "with open(\"../data/class_names.json\", \"r\") as f:\n",
    "    class_names = json.load(f)\n",
    "\n",
    "print(\"Class names loaded:\", class_names)\n",
    "print(\"Number of classes:\", len(class_names))"
   ]
  },
  {
   "cell_type": "markdown",
   "id": "ddd5443b",
   "metadata": {},
   "source": [
    "## Model Setup\n",
    "\n",
    "Set up the ConvNeXt model, specify the device (CPU or GPU), and load the trained weights."
   ]
  },
  {
   "cell_type": "code",
   "execution_count": 8,
   "id": "dface7c5",
   "metadata": {},
   "outputs": [
    {
     "name": "stdout",
     "output_type": "stream",
     "text": [
      "GPU in use\n"
     ]
    }
   ],
   "source": [
    "MODEL_NAME = \"convnext_base\"\n",
    "NUM_CLASSES = len(class_names)  # Set based on the number of class names\n",
    "DEVICE = torch.device(\"cuda\" if torch.cuda.is_available() else \"cpu\")\n",
    "if DEVICE.type == \"cuda\":\n",
    "    print(\"GPU in use\")\n",
    "else:\n",
    "    print(\"CPU in use\")\n",
    "MODEL_WEIGHT_PATH = \"../models/best_model_fold1.pth\"  # Path to the model weights"
   ]
  },
  {
   "cell_type": "markdown",
   "id": "d86d15b1",
   "metadata": {},
   "source": [
    "### Load Model Weights\n",
    "\n",
    "Load the trained weights into the model and set it to evaluation mode."
   ]
  },
  {
   "cell_type": "code",
   "execution_count": 19,
   "id": "7871f2ad",
   "metadata": {},
   "outputs": [
    {
     "name": "stdout",
     "output_type": "stream",
     "text": [
      "Model Loaded\n"
     ]
    }
   ],
   "source": [
    "try:\n",
    "    model = timm.create_model(MODEL_NAME, pretrained=False, num_classes=NUM_CLASSES)\n",
    "    model.load_state_dict(torch.load(MODEL_WEIGHT_PATH, map_location=DEVICE))\n",
    "    model.to(DEVICE)\n",
    "    model.eval()\n",
    "    print(\"Model Loaded\")\n",
    "except Exception as e:\n",
    "    print(e)"
   ]
  },
  {
   "cell_type": "markdown",
   "id": "91ca9392",
   "metadata": {},
   "source": [
    "## Image Preprocessing\n",
    "\n",
    "Define the image transformations required for the model input."
   ]
  },
  {
   "cell_type": "code",
   "execution_count": 12,
   "id": "a41949e1",
   "metadata": {},
   "outputs": [],
   "source": [
    "eval_transform = transforms.Compose([\n",
    "    transforms.Resize((224, 224)),\n",
    "    transforms.ToTensor(),\n",
    "    transforms.Normalize(mean=[0.485, 0.456, 0.406],\n",
    "                         std=[0.229, 0.224, 0.225])\n",
    "])"
   ]
  },
  {
   "cell_type": "markdown",
   "id": "415e489f",
   "metadata": {},
   "source": [
    "### Image Loading Function\n",
    "\n",
    "Define a function to load and process an image."
   ]
  },
  {
   "cell_type": "code",
   "execution_count": null,
   "id": "b032d5b4",
   "metadata": {},
   "outputs": [],
   "source": [
    "def predict_image(img_path, model, transform, device, class_names, topk=2):\n",
    "    \"\"\"\n",
    "    Loads an image, preprocesses it, and predicts its class using the provided model.\n",
    "    Returns:\n",
    "        list of tuples: [(class_index, class_name, confidence), ...] for topk predictions\n",
    "    \"\"\"\n",
    "    image = Image.open(img_path).convert(\"RGB\")\n",
    "    image_tensor = transform(image).unsqueeze(0).to(device)\n",
    "    model.eval()\n",
    "    with torch.no_grad():\n",
    "        output = model(image_tensor)\n",
    "        probabilities = torch.softmax(output, dim=1)[0]\n",
    "        topk_results = torch.topk(probabilities, topk)\n",
    "        results = []\n",
    "        for idx, conf in zip(topk_results.indices, topk_results.values):\n",
    "            results.append((idx.item(), class_names[idx.item()], conf.item()))\n",
    "    return results"
   ]
  },
  {
   "cell_type": "markdown",
   "id": "66c92523",
   "metadata": {},
   "source": [
    "## Load and Predict\n",
    "\n",
    "Load the input image, preprocess it, and use the model to predict the Pokémon class."
   ]
  },
  {
   "cell_type": "code",
   "execution_count": 31,
   "id": "6019325d",
   "metadata": {},
   "outputs": [
    {
     "name": "stdout",
     "output_type": "stream",
     "text": [
      "Predictions for image: ../data/gengar.png\n",
      "Class Index: 40, Class Name: Gengar, Confidence: 0.9984\n",
      "Class Index: 51, Class Name: Haunter, Confidence: 0.0011\n",
      "Class Index: 114, Class Name: Rhydon, Confidence: 0.0001\n",
      "Class Index: 45, Class Name: Golduck, Confidence: 0.0000\n"
     ]
    }
   ],
   "source": [
    "img_path = \"../data/gengar.png\"  # Change to your image path\n",
    "results= predict_image(img_path, model, eval_transform, DEVICE, class_names, topk=4)\n",
    "print(\"Predictions for image:\", img_path)\n",
    "for idx, class_name, confidence in results:\n",
    "    print(f\"Class Index: {idx}, Class Name: {class_name}, Confidence: {confidence:.4f}\")\n"
   ]
  },
  {
   "cell_type": "code",
   "execution_count": 35,
   "id": "f35d123d",
   "metadata": {},
   "outputs": [],
   "source": [
    "@click.command()\n",
    "@click.argument(\"img_path\")\n",
    "@click.option(\"--topk\", default=2, help=\"Number of top predictions to return.\")\n",
    "def cli(img_path, topk):\n",
    "    results = predict_image(img_path, model, eval_transform, DEVICE, class_names, topk=topk)\n",
    "    print(f\"Predictions for image: {img_path}\")\n",
    "    for idx, class_name, confidence in results:\n",
    "        print(f\"Class Index: {idx}, Class Name: {class_name}, Confidence: {confidence:.4f}\")"
   ]
  }
 ],
 "metadata": {
  "kernelspec": {
   "display_name": ".venv",
   "language": "python",
   "name": "python3"
  },
  "language_info": {
   "codemirror_mode": {
    "name": "ipython",
    "version": 3
   },
   "file_extension": ".py",
   "mimetype": "text/x-python",
   "name": "python",
   "nbconvert_exporter": "python",
   "pygments_lexer": "ipython3",
   "version": "3.10.12"
  }
 },
 "nbformat": 4,
 "nbformat_minor": 5
}
